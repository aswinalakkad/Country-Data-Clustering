{
 "cells": [
  {
   "cell_type": "code",
   "execution_count": 5,
   "id": "9819e5d8-2bfa-4c2e-b721-549751d5038f",
   "metadata": {},
   "outputs": [
    {
     "name": "stdout",
     "output_type": "stream",
     "text": [
      "Overwriting app.py\n"
     ]
    }
   ],
   "source": [
    "%%writefile app.py\n",
    "\n",
    "import streamlit as st\n",
    "import numpy as np\n",
    "import pandas as pd\n",
    "import pickle \n",
    "\n",
    "#Load the instances that were created \n",
    "\n",
    "with open('final_model.pkl','rb') as file:\n",
    "    model = pickle.load(file)\n",
    "    \n",
    "with open('pca.pkl','rb') as file:\n",
    "    pca = pickle.load(file)\n",
    "    \n",
    "with open('scaler.pkl','rb') as file:\n",
    "    scaler = pickle.load(file)   \n",
    "\n",
    "def prediction(input_data):\n",
    "    \n",
    "    scaled_data = scaler.transform(input_data)\n",
    "\n",
    "    pca_data = pca.transform(scaled_data)\n",
    "\n",
    "    pred=model.prediction(pca_data)[0]\n",
    "\n",
    "    if pred == 0:\n",
    "        return 'Developing'\n",
    "    elif pred == 1:\n",
    "        return 'Developed'\n",
    "    else:\n",
    "        return 'Under Developed'\n",
    "\n",
    "def main():\n",
    "    \n",
    "    st.title('HELP International Foundation')\n",
    "    \n",
    "    st.subheader('This application will give the statuis of the country based on socio-economic factors')\n",
    "\n",
    "    ch_mort = st.text_input('Enter the child mortality rate:')\n",
    "\n",
    "    exp = st.text_input('Enter Exports (% GDP):')\n",
    "\n",
    "    imp = st.text_input('Enter Imports (% GDP):')\n",
    "    \n",
    "    hel = st.text_input('Enter Expentiture on health (% GDP):')\n",
    "    \n",
    "    inc = st.text_input('Enter average income per person')\n",
    "    \n",
    "    inf =  st.text_input('Enter Inflation rate')\n",
    "    \n",
    "    life_exp = st.text_input('Enter Life Expectency')\n",
    "    \n",
    "    total_fert = st.text_input('Enter number of children that would be born to each woman')\n",
    "    \n",
    "    gdpp = st.text_input('Enter The GDP per capita')\n",
    "\n",
    "    #save all the input in a 2d list \n",
    "    input_list = [[ch_mort,exp,imp,hel,inc,inf,life_exp,total_fert,gdpp]]\n",
    "\n",
    "    #create a button to predict \n",
    "    if st.button('Predict'):\n",
    "        response = prediction(input_list)\n",
    "        st.success(response)\n",
    "#to execute the main function \n",
    "if __name__ == '__main__':\n",
    "    main()"
   ]
  },
  {
   "cell_type": "code",
   "execution_count": null,
   "id": "ec44c826-5e44-4fac-a103-761820533387",
   "metadata": {},
   "outputs": [],
   "source": []
  }
 ],
 "metadata": {
  "kernelspec": {
   "display_name": "Python 3 (ipykernel)",
   "language": "python",
   "name": "python3"
  },
  "language_info": {
   "codemirror_mode": {
    "name": "ipython",
    "version": 3
   },
   "file_extension": ".py",
   "mimetype": "text/x-python",
   "name": "python",
   "nbconvert_exporter": "python",
   "pygments_lexer": "ipython3",
   "version": "3.12.4"
  }
 },
 "nbformat": 4,
 "nbformat_minor": 5
}
